{
  "cells": [
    {
      "cell_type": "markdown",
      "metadata": {
        "id": "view-in-github",
        "colab_type": "text"
      },
      "source": [
        "<a href=\"https://colab.research.google.com/github/ronhendriks/colab/blob/main/bigramron4.ipynb\" target=\"_parent\"><img src=\"https://colab.research.google.com/assets/colab-badge.svg\" alt=\"Open In Colab\"/></a>"
      ]
    },
    {
      "cell_type": "code",
      "execution_count": null,
      "metadata": {
        "id": "rkI3i_y-igv4",
        "outputId": "be21c050-f384-4faf-f2ef-89efc73f5800"
      },
      "outputs": [
        {
          "name": "stdout",
          "output_type": "stream",
          "text": [
            "['\\n', ' ', '!', '\"', '&', \"'\", '(', ')', '*', ',', '-', '.', '0', '1', '8', '9', ':', ';', '?', 'A', 'B', 'C', 'D', 'E', 'F', 'G', 'H', 'I', 'J', 'K', 'L', 'M', 'N', 'O', 'P', 'Q', 'R', 'S', 'T', 'U', 'V', 'W', 'X', 'Y', 'Z', '[', ']', '_', 'a', 'b', 'c', 'd', 'e', 'f', 'g', 'h', 'i', 'j', 'k', 'l', 'm', 'n', 'o', 'p', 'q', 'r', 's', 't', 'u', 'v', 'w', 'x', 'y', 'z', '\\ufeff']\n"
          ]
        }
      ],
      "source": [
        "with open ('wizard_of_oz.txt', 'r', encoding='UTF-8') as f:\n",
        "    text = f.read()\n",
        "chars = sorted(set(text))\n",
        "print (chars)\n"
      ]
    },
    {
      "cell_type": "code",
      "execution_count": null,
      "metadata": {
        "id": "DRu-Z6ztigv-",
        "outputId": "8e3f183e-0c6f-41ca-e18d-5ae72325c796"
      },
      "outputs": [
        {
          "name": "stdout",
          "output_type": "stream",
          "text": [
            "tensor([74,  0,  1,  1,  1,  1,  1,  1,  1,  1,  1,  1,  1,  1,  1,  1,  1,  1,\n",
            "         1,  1,  1,  1,  1,  1,  1,  1,  1,  1,  1,  1,  1, 38, 55, 52,  1, 41,\n",
            "        33, 32, 22, 23, 36, 24, 39, 30,  0,  1,  1,  1,  1,  1,  1,  1,  1,  1,\n",
            "         1,  1,  1,  1,  1,  1,  1,  1,  1,  1,  1,  1,  1,  1,  1,  1,  1,  1,\n",
            "         1,  1,  1,  1,  1,  1, 41, 27, 44, 19, 36, 22,  0,  1,  1,  1,  1,  1,\n",
            "         1,  1,  1,  1,  1,  1,  1,  1,  1,  1,  1,  1,  1,  1,  1,  1,  1,  1,\n",
            "         1,  1,  1,  1,  1,  1,  1,  1,  1,  1,  1,  1, 33, 24,  0,  1,  1,  1,\n",
            "         1,  1,  1,  1,  1,  1,  1,  1,  1,  1,  1,  1,  1,  1,  1,  1,  1,  1,\n",
            "         1,  1,  1,  1,  1,  1,  1,  1,  1,  1,  1,  1,  1,  1, 33, 44,  0,  0,\n",
            "         1,  1,  1,  1,  1,  1,  1,  1,  1,  1,  1,  1,  1,  1,  1,  1,  1,  1,\n",
            "         1,  1,  1,  1,  1,  1,  1,  1,  1,  1, 20, 43,  1, 30, 11,  1, 24, 65,\n",
            "        48, 61, 58,  1, 20, 48, 68, 60,  0,  0,  1,  1,  1,  1,  1,  1,  1,  1,\n",
            "         1,  1,  1,  1,  1,  1,  1,  1,  1,  1,  1,  1,  1,  1,  1,  1,  1,  1,\n",
            "         1,  1,  1, 41, 11,  1, 41, 11,  1, 22, 52, 61, 66, 59, 62, 70, 11,  0,\n",
            "         0, 45, 27, 59, 59, 68, 66, 67, 65, 48, 67, 56, 62, 61, 46,  0,  0,  1,\n",
            "         1,  1,  1,  1,  1,  1,  1,  1,  1,  1,  1,  1,  1,  1,  1,  1,  1,  1,\n",
            "         1,  1,  1,  1,  1,  1,  1,  1,  1, 25, 52, 62, 11,  1, 31, 11,  1, 26,\n",
            "        56, 59, 59,  1, 21, 62, 11,  0,  1,  1,  1,  1,  1,  1,  1,  1,  1,  1,\n",
            "         1,  1,  1,  1,  1,  1,  1,  1,  1,  1,  1,  1,  1,  1,  1,  1,  1,  1,\n",
            "         1,  1,  1, 32, 52, 70,  1, 43, 62, 65, 58, 11,  0,  0,  0,  0,  0,  1,\n",
            "         1,  1,  1,  1,  1,  1,  1,  1,  1,  1,  1,  1,  1,  1,  1,  1,  1,  1,\n",
            "         1,  1,  1,  1,  1,  1,  1,  1,  1,  1, 27, 32, 38, 36, 33, 22, 39, 21,\n",
            "        38, 27, 33, 32, 11,  0,  0,  0, 24, 62, 59, 58,  1, 59, 62, 65, 52,  9,\n",
            "         1, 59, 52, 54, 52, 61, 51, 66,  9,  1, 60, 72, 67, 55, 66,  1, 48, 61,\n",
            "        51,  1, 53, 48, 56, 65, 72,  1, 67, 48, 59, 52, 66,  1, 55, 48, 69, 52,\n",
            "         1, 53, 62, 59, 59, 62, 70, 52, 51,  1, 50, 55, 56, 59, 51, 55, 62, 62,\n",
            "        51,  0, 67, 55, 65, 62, 68, 54, 55,  1, 67, 55, 52,  1, 48, 54, 52, 66,\n",
            "         9,  1, 53, 62, 65,  1, 52, 69, 52, 65, 72,  1, 55, 52])\n"
          ]
        }
      ],
      "source": [
        "string_to_int = {ch:i for i,ch in enumerate(chars)}\n",
        "int_to_string = {i:ch for i,ch in enumerate(chars)}\n",
        "encode = lambda s:[string_to_int[c] for c in s]\n",
        "decode = lambda l:''.join([int_to_string[i] for i in l])\n",
        "\n",
        "data = torch.tensor(encode(text), dtype=torch.long)\n",
        "print(data[:500])"
      ]
    },
    {
      "cell_type": "code",
      "execution_count": null,
      "metadata": {
        "id": "a_AqGwgoigwB",
        "outputId": "97c6e3c5-45f5-4189-f64e-8c374f815d53"
      },
      "outputs": [
        {
          "name": "stdout",
          "output_type": "stream",
          "text": [
            "cuda\n"
          ]
        }
      ],
      "source": [
        "import torch\n",
        "import torch.nn as nn\n",
        "import numpy as np\n",
        "import time\n",
        "import torch_directml\n",
        "\n",
        "device = 'cuda' if torch.cuda.is_available else 'cpu'\n",
        "print(device)\n",
        "block_size = 8\n",
        "batch_size = 4\n",
        "max_iters = 10000\n",
        "learning_rate = 3e-3\n",
        "eval_iters = 1000"
      ]
    },
    {
      "cell_type": "code",
      "execution_count": null,
      "metadata": {
        "id": "EUh1JplBigwD"
      },
      "outputs": [],
      "source": [
        "n= int(0.8*len(data))\n",
        "train_data = data[:n]\n",
        "val_data = data[n:]"
      ]
    },
    {
      "cell_type": "code",
      "execution_count": null,
      "metadata": {
        "id": "Y6j0c7MvigwF",
        "outputId": "5fc6f55d-abb6-4e62-eba2-9f32577d343b"
      },
      "outputs": [
        {
          "name": "stdout",
          "output_type": "stream",
          "text": [
            "when input is  tensor([74]) target is  tensor(0)\n",
            "when input is  tensor([74,  0]) target is  tensor(1)\n",
            "when input is  tensor([74,  0,  1]) target is  tensor(1)\n",
            "when input is  tensor([74,  0,  1,  1]) target is  tensor(1)\n",
            "when input is  tensor([74,  0,  1,  1,  1]) target is  tensor(1)\n",
            "when input is  tensor([74,  0,  1,  1,  1,  1]) target is  tensor(1)\n",
            "when input is  tensor([74,  0,  1,  1,  1,  1,  1]) target is  tensor(1)\n",
            "when input is  tensor([74,  0,  1,  1,  1,  1,  1,  1]) target is  tensor(1)\n"
          ]
        }
      ],
      "source": [
        "\n",
        "\n",
        "x = train_data[:block_size]\n",
        "y = train_data[1:block_size+1]\n",
        "for t in range(block_size):\n",
        "    context = x[:t+1]\n",
        "    target = y[t]\n",
        "    print('when input is ', context,'target is ', target)\n",
        ""
      ]
    },
    {
      "cell_type": "code",
      "execution_count": null,
      "metadata": {
        "id": "D3KAzuZmigwI",
        "outputId": "ce116e28-6835-4ba2-bd87-312a57a479eb"
      },
      "outputs": [
        {
          "name": "stdout",
          "output_type": "stream",
          "text": [
            "1744108634.215656\n",
            "1744108634.216663\n",
            "0.00100684\n",
            "CPU times: total: 0 ns\n",
            "Wall time: 1.01 ms\n"
          ]
        }
      ],
      "source": [
        "%%time\n",
        "start_time = time.time()\n",
        "print(start_time)\n",
        "zeros = torch.zeros(1, 1)\n",
        "end_time = time.time()\n",
        "print(end_time)\n",
        "\n",
        "elapsed_time = end_time - start_time\n",
        "print(f\"{elapsed_time:.8f}\")"
      ]
    },
    {
      "cell_type": "code",
      "execution_count": null,
      "metadata": {
        "id": "8tioPsgPigwK",
        "outputId": "9fd700e0-d7de-4b58-e8a6-668cc07ab51f"
      },
      "outputs": [
        {
          "name": "stdout",
          "output_type": "stream",
          "text": [
            "torch.Size([4, 100])\n"
          ]
        }
      ],
      "source": [
        "import torch\n",
        "import torch.nn as nn\n",
        "\n",
        "# Initialize embedding layer\n",
        "char_vocab_size = 500  # Let's assume 30 unique words\n",
        "embedding_dim = 100      # Each character is represented as a 10D vector\n",
        "embedding = nn.Embedding(char_vocab_size, embedding_dim)\n",
        "\n",
        "# Example: \"CAT\" encoded as character indices\n",
        "input_indices = torch.LongTensor([1, 5, 3, 2])\n",
        "\n",
        "# Get character embeddings\n",
        "embedded_output = embedding(input_indices)\n",
        "\n",
        "print(embedded_output.shape)  # Output: torch.Size([4, 10])\n"
      ]
    },
    {
      "cell_type": "code",
      "execution_count": null,
      "metadata": {
        "id": "zVjNVgFIigwM",
        "outputId": "ac499cb4-e024-43d6-d882-b4179f279ba8"
      },
      "outputs": [
        {
          "name": "stdout",
          "output_type": "stream",
          "text": [
            "Using device: privateuseone:0\n"
          ]
        }
      ],
      "source": [
        "import torch\n",
        "import torch_directml\n",
        "\n",
        "device = torch_directml.device()\n",
        "print(f\"Using device: {device}\")\n"
      ]
    },
    {
      "cell_type": "code",
      "execution_count": null,
      "metadata": {
        "scrolled": true,
        "id": "vSrOs4RRigwN",
        "outputId": "2dfc10c3-a09b-4e7e-e88d-423b94b85a3a"
      },
      "outputs": [
        {
          "name": "stdout",
          "output_type": "stream",
          "text": [
            "tensor([2., 4., 6.], device='privateuseone:0')\n"
          ]
        }
      ],
      "source": [
        "import torch\n",
        "import torch_directml\n",
        "\n",
        "device = torch_directml.device()\n",
        "\n",
        "# Maak een tensor en stuur deze naar DirectML (GPU)\n",
        "x = torch.tensor([1.0, 2.0, 3.0]).to(device)\n",
        "y = x * 2  # Simpele bewerking\n",
        "\n",
        "print(y)  # Als dit werkt zonder foutmelding, gebruikt DirectML de GPU!\n"
      ]
    },
    {
      "cell_type": "code",
      "execution_count": null,
      "metadata": {
        "id": "4aKwTMMPigwS",
        "outputId": "d15fdd96-c343-4d7b-d131-01d377ff4295"
      },
      "outputs": [
        {
          "name": "stdout",
          "output_type": "stream",
          "text": [
            "Using device: DirectML GPU\n"
          ]
        }
      ],
      "source": [
        "device_name = \"DirectML GPU\" if \"privateuseone\" in str(device) else str(device)\n",
        "print(f\"Using device: {device_name}\")\n"
      ]
    },
    {
      "cell_type": "code",
      "execution_count": null,
      "metadata": {
        "scrolled": true,
        "id": "Ut-oDBQsigwU",
        "outputId": "5deb7345-d47b-4d15-9ca6-f015eb9bb7ad"
      },
      "outputs": [
        {
          "name": "stdout",
          "output_type": "stream",
          "text": [
            "0.01600862\n",
            "0.13753366\n",
            "CPU times: total: 1.94 s\n",
            "Wall time: 1.93 s\n"
          ]
        }
      ],
      "source": [
        "%%time\n",
        "import torch\n",
        "import torch.nn as nn\n",
        "import numpy as np\n",
        "import time\n",
        "import torch_directml\n",
        "\n",
        "torch_rand1 = torch.rand(100, 100, 100, 100).to(device)\n",
        "torch_rand2 = torch.rand(100, 100, 100, 100).to(device)\n",
        "np_rand1 = torch.rand(100, 100, 100, 100).numpy()\n",
        "np_rand2 = torch.rand(100, 100, 100, 100).numpy()\n",
        "\n",
        "start_time = time.time()\n",
        "rand = (torch_rand1 @ torch_rand2)\n",
        "\n",
        "end_time = time.time()\n",
        "\n",
        "elapsed_time = end_time - start_time\n",
        "print(f\"{elapsed_time:.8f}\")\n",
        "\n",
        "start_time = time.time()\n",
        "rand = np.multiply(np_rand1, np_rand2)\n",
        "\n",
        "end_time = time.time()\n",
        "\n",
        "elapsed_time = end_time - start_time\n",
        "print(f\"{elapsed_time:.8f}\")\n",
        "\n"
      ]
    },
    {
      "cell_type": "code",
      "execution_count": null,
      "metadata": {
        "scrolled": true,
        "id": "E8WN9EV_igwX",
        "outputId": "8c1490bf-db8d-4000-dc20-85d3f18fce2c"
      },
      "outputs": [
        {
          "name": "stdout",
          "output_type": "stream",
          "text": [
            "tensor([1, 1, 1, 1, 0, 1, 1, 0, 1, 0])\n",
            "CPU times: total: 15.6 ms\n",
            "Wall time: 1.99 ms\n"
          ]
        }
      ],
      "source": [
        "%%time\n",
        "import torch\n",
        "import torch.nn as nn\n",
        "import numpy as np\n",
        "import time\n",
        "import torch_directml\n",
        "\n",
        "probabilities = torch.tensor([0.1, 0.9])\n",
        "samples = torch.multinomial(probabilities, num_samples = 10, replacement= True)\n",
        "print (samples)"
      ]
    },
    {
      "cell_type": "code",
      "execution_count": null,
      "metadata": {
        "id": "wziaWUkgigwY",
        "outputId": "eb5b5f38-a262-4042-880b-91550f6612a6"
      },
      "outputs": [
        {
          "name": "stdout",
          "output_type": "stream",
          "text": [
            "tensor([0.0900, 0.2447, 0.6652])\n"
          ]
        }
      ],
      "source": [
        "import torch.nn.functional as F\n",
        "\n",
        "# create tensor\n",
        "tensor1 = torch.tensor([1.0, 2.0 , 3.0])\n",
        "\n",
        "# e to the power 1.0, 2.0  etc divided by sum of all\n",
        "sofmax_output = F.softmax(tensor1, dim=0)\n",
        "print(sofmax_output)"
      ]
    },
    {
      "cell_type": "code",
      "execution_count": null,
      "metadata": {
        "id": "ssTXKyRWigwZ",
        "outputId": "d3813e25-ab1b-46e4-d4e4-ea8a2d06bbd0"
      },
      "outputs": [
        {
          "name": "stdout",
          "output_type": "stream",
          "text": [
            "torch.Size([4, 100])\n",
            "CPU times: total: 0 ns\n",
            "Wall time: 2 ms\n"
          ]
        }
      ],
      "source": [
        "%%time\n",
        "import torch\n",
        "import torch.nn as nn\n",
        "\n",
        "# initiallize embedding layer\n",
        "vocab_size = 1000\n",
        "embedding_dim = 100\n",
        "embedding = nn.Embedding(vocab_size, embedding_dim)\n",
        "\n",
        "#create some input indices\n",
        "input_indices = torch.LongTensor([1, 5, 3, 2 ])\n",
        "\n",
        "embedded_output = embedding(input_indices)\n",
        "print(embedded_output.shape)\n"
      ]
    },
    {
      "cell_type": "code",
      "execution_count": null,
      "metadata": {
        "id": "dmGem16jigwa",
        "outputId": "7b1ed019-e0ce-49d8-8208-ac98e6d06d10"
      },
      "outputs": [
        {
          "name": "stdout",
          "output_type": "stream",
          "text": [
            "tensor([[ 27,  30,  33],\n",
            "        [ 61,  68,  75],\n",
            "        [ 95, 106, 117]])\n",
            "tensor([[ 27,  30,  33],\n",
            "        [ 61,  68,  75],\n",
            "        [ 95, 106, 117]])\n",
            "CPU times: total: 0 ns\n",
            "Wall time: 1.99 ms\n"
          ]
        }
      ],
      "source": [
        "%%time\n",
        "import torch\n",
        "import torch.nn as nn\n",
        "\n",
        "a = torch.tensor([[1,2],[3,4],[5,6]])\n",
        "b = torch.tensor([[7,8,9],[10,11,12]])\n",
        "\n",
        "print(a @ b)\n",
        "print(torch.matmul(a, b))"
      ]
    },
    {
      "cell_type": "code",
      "execution_count": null,
      "metadata": {
        "id": "vHiVyGPtigwb",
        "outputId": "3ad80a61-1557-42cc-d9c4-dad37ecc79ea"
      },
      "outputs": [
        {
          "name": "stdout",
          "output_type": "stream",
          "text": [
            "['\\n', ' ', '!', '\"', '&', \"'\", '(', ')', '*', ',', '-', '.', '0', '1', '8', '9', ':', ';', '?', 'A', 'B', 'C', 'D', 'E', 'F', 'G', 'H', 'I', 'J', 'K', 'L', 'M', 'N', 'O', 'P', 'Q', 'R', 'S', 'T', 'U', 'V', 'W', 'X', 'Y', 'Z', '[', ']', '_', 'a', 'b', 'c', 'd', 'e', 'f', 'g', 'h', 'i', 'j', 'k', 'l', 'm', 'n', 'o', 'p', 'q', 'r', 's', 't', 'u', 'v', 'w', 'x', 'y', 'z', '\\ufeff']\n",
            "75\n"
          ]
        }
      ],
      "source": [
        "with open ('wizard_of_oz.txt', 'r', encoding='UTF-8') as f:\n",
        "    text = f.read()\n",
        "chars = sorted(set(text))\n",
        "print (chars)\n",
        "vocab_size = len(chars)\n",
        "print(vocab_size)"
      ]
    },
    {
      "cell_type": "code",
      "execution_count": null,
      "metadata": {
        "id": "wrPvUeISigwc",
        "outputId": "45943e52-b9c7-4874-f658-5ae93d19dd08"
      },
      "outputs": [
        {
          "name": "stdout",
          "output_type": "stream",
          "text": [
            "tensor([74,  0,  1,  1,  1,  1,  1,  1,  1,  1,  1,  1,  1,  1,  1,  1,  1,  1,\n",
            "         1,  1,  1,  1,  1,  1,  1,  1,  1,  1,  1,  1,  1, 38, 55, 52,  1, 41,\n",
            "        33, 32, 22, 23, 36, 24, 39, 30,  0,  1,  1,  1,  1,  1,  1,  1,  1,  1,\n",
            "         1,  1,  1,  1,  1,  1,  1,  1,  1,  1,  1,  1,  1,  1,  1,  1,  1,  1,\n",
            "         1,  1,  1,  1,  1,  1, 41, 27, 44, 19, 36, 22,  0,  1,  1,  1,  1,  1,\n",
            "         1,  1,  1,  1,  1,  1,  1,  1,  1,  1,  1,  1,  1,  1,  1,  1,  1,  1,\n",
            "         1,  1,  1,  1,  1,  1,  1,  1,  1,  1,  1,  1, 33, 24,  0,  1,  1,  1,\n",
            "         1,  1,  1,  1,  1,  1,  1,  1,  1,  1,  1,  1,  1,  1,  1,  1,  1,  1,\n",
            "         1,  1,  1,  1,  1,  1,  1,  1,  1,  1,  1,  1,  1,  1, 33, 44,  0,  0,\n",
            "         1,  1,  1,  1,  1,  1,  1,  1,  1,  1,  1,  1,  1,  1,  1,  1,  1,  1,\n",
            "         1,  1,  1,  1,  1,  1,  1,  1,  1,  1, 20, 43,  1, 30, 11,  1, 24, 65,\n",
            "        48, 61, 58,  1, 20, 48, 68, 60,  0,  0,  1,  1,  1,  1,  1,  1,  1,  1,\n",
            "         1,  1,  1,  1,  1,  1,  1,  1,  1,  1,  1,  1,  1,  1,  1,  1,  1,  1,\n",
            "         1,  1,  1, 41, 11,  1, 41, 11,  1, 22, 52, 61, 66, 59, 62, 70, 11,  0,\n",
            "         0, 45, 27, 59, 59, 68, 66, 67, 65, 48, 67, 56, 62, 61, 46,  0,  0,  1,\n",
            "         1,  1,  1,  1,  1,  1,  1,  1,  1,  1,  1,  1,  1,  1,  1,  1,  1,  1,\n",
            "         1,  1,  1,  1,  1,  1,  1,  1,  1, 25, 52, 62, 11,  1, 31, 11,  1, 26,\n",
            "        56, 59, 59,  1, 21, 62, 11,  0,  1,  1,  1,  1,  1,  1,  1,  1,  1,  1,\n",
            "         1,  1,  1,  1,  1,  1,  1,  1,  1,  1,  1,  1,  1,  1,  1,  1,  1,  1,\n",
            "         1,  1,  1, 32, 52, 70,  1, 43, 62, 65, 58, 11,  0,  0,  0,  0,  0,  1,\n",
            "         1,  1,  1,  1,  1,  1,  1,  1,  1,  1,  1,  1,  1,  1,  1,  1,  1,  1,\n",
            "         1,  1,  1,  1,  1,  1,  1,  1,  1,  1, 27, 32, 38, 36, 33, 22, 39, 21,\n",
            "        38, 27, 33, 32, 11,  0,  0,  0, 24, 62, 59, 58,  1, 59, 62, 65, 52,  9,\n",
            "         1, 59, 52, 54, 52, 61, 51, 66,  9,  1, 60, 72, 67, 55, 66,  1, 48, 61,\n",
            "        51,  1, 53, 48, 56, 65, 72,  1, 67, 48, 59, 52, 66,  1, 55, 48, 69, 52,\n",
            "         1, 53, 62, 59, 59, 62, 70, 52, 51,  1, 50, 55, 56, 59, 51, 55, 62, 62,\n",
            "        51,  0, 67, 55, 65, 62, 68, 54, 55,  1, 67, 55, 52,  1, 48, 54, 52, 66,\n",
            "         9,  1, 53, 62, 65,  1, 52, 69, 52, 65, 72,  1, 55, 52, 48, 59, 67, 55,\n",
            "        72,  1, 72, 62, 68, 61, 54, 66, 67, 52, 65,  1, 55, 48, 66,  1, 48,  1,\n",
            "        70, 55, 62, 59, 52, 66, 62, 60, 52,  1, 48, 61, 51,  0, 56, 61, 66, 67,\n",
            "        56, 61, 50, 67, 56, 69, 52,  1, 59, 62, 69, 52,  1, 53, 62, 65,  1, 66,\n",
            "        67, 62, 65, 56, 52, 66,  1, 53, 48, 61, 67, 48, 66, 67, 56, 50,  9,  1,\n",
            "        60, 48, 65, 69, 52, 59, 62, 68, 66,  1, 48, 61, 51,  1, 60, 48, 61, 56,\n",
            "        53, 52, 66, 67, 59, 72,  0, 68, 61, 65, 52, 48, 59, 11,  1, 38, 55, 52,\n",
            "         1, 70, 56, 61, 54, 52, 51,  1, 53, 48, 56, 65, 56, 52, 66,  1, 62, 53,\n",
            "         1, 25, 65, 56, 60, 60,  1, 48, 61, 51,  1, 19, 61, 51, 52, 65, 66, 52,\n",
            "        61,  1, 55, 48, 69, 52,  1, 49, 65, 62, 68, 54, 55, 67,  1, 60, 62, 65,\n",
            "        52,  0, 55, 48, 63, 63, 56, 61, 52, 66, 66,  1, 67, 62,  1, 50, 55, 56,\n",
            "        59, 51, 56, 66, 55,  1, 55, 52, 48, 65, 67, 66,  1, 67, 55, 48, 61,  1,\n",
            "        48, 59, 59,  1, 62, 67, 55, 52, 65,  1, 55, 68, 60, 48, 61,  1, 50, 65,\n",
            "        52, 48, 67, 56, 62, 61, 66, 11,  0,  0, 43, 52, 67,  1, 67, 55, 52,  1,\n",
            "        62, 59, 51, 10, 67, 56, 60, 52,  1, 53, 48, 56, 65, 72,  1, 67, 48, 59,\n",
            "        52,  9,  1, 55, 48, 69, 56, 61, 54,  1, 66, 52, 65, 69, 52, 51,  1, 53,\n",
            "        62, 65,  1, 54, 52, 61, 52, 65, 48, 67, 56, 62, 61, 66,  9,  1, 60, 48,\n",
            "        72,  0, 61, 62, 70,  1, 49, 52,  1, 50, 59, 48, 66, 66, 52, 51,  1, 48,\n",
            "        66,  1,  3, 55, 56, 66, 67, 62, 65, 56, 50, 48, 59,  3,  1, 56, 61,  1,\n",
            "        67, 55, 52,  1, 50, 55, 56, 59, 51, 65, 52, 61,  5, 66,  1, 59, 56, 49,\n",
            "        65, 48, 65, 72, 17,  1, 53, 62, 65,  1, 67, 55, 52,  0, 67, 56, 60, 52,\n",
            "         1, 55, 48, 66,  1, 50, 62, 60, 52,  1, 53, 62, 65,  1, 48,  1, 66, 52,\n",
            "        65, 56, 52, 66,  1, 62, 53,  1, 61, 52, 70, 52, 65,  1,  3, 70, 62, 61,\n",
            "        51, 52, 65,  1, 67, 48, 59, 52, 66,  3,  1, 56, 61,  1, 70, 55, 56, 50,\n",
            "        55,  1, 67, 55, 52,  0, 66, 67, 52, 65, 52, 62, 67, 72, 63, 52, 51,  1,\n",
            "        54, 52, 61, 56, 52,  9,  1, 51, 70, 48, 65, 53,  1, 48, 61, 51,  1, 53,\n",
            "        48, 56, 65, 72,  1, 48, 65, 52,  1, 52, 59, 56, 60, 56, 61, 48, 67, 52,\n",
            "        51,  9,  1, 67, 62, 54, 52, 67, 55, 52, 65,  1, 70, 56, 67, 55,  1, 48,\n",
            "        59, 59,  0, 67, 55, 52,  1, 55, 62, 65])\n"
          ]
        }
      ],
      "source": [
        "string_to_int = {ch:i for i,ch in enumerate(chars)}\n",
        "int_to_string = {i:ch for i,ch in enumerate(chars)}\n",
        "encode = lambda s:[string_to_int[c] for c in s]\n",
        "decode = lambda l:''.join([int_to_string[i] for i in l])\n",
        "\n",
        "data = torch.tensor(encode(text), dtype=torch.long)\n",
        "print(data[:1000])"
      ]
    },
    {
      "cell_type": "code",
      "execution_count": null,
      "metadata": {
        "id": "pjkFgh0rigwc",
        "outputId": "221e3f3d-966a-4e02-b403-6516b2eb4a90"
      },
      "outputs": [
        {
          "name": "stdout",
          "output_type": "stream",
          "text": [
            "inputs: \n",
            "tensor([[51,  1, 67, 55, 48, 67,  1, 55],\n",
            "        [49, 62, 68, 67,  1, 60, 52, 11],\n",
            "        [ 1, 48, 61, 51,  1, 67, 55, 52],\n",
            "        [55, 48, 51,  1, 48, 59, 66, 62]], device='privateuseone:0')\n",
            "targets: \n",
            "tensor([[ 1, 67, 55, 48, 67,  1, 55, 52],\n",
            "        [62, 68, 67,  1, 60, 52, 11,  3],\n",
            "        [48, 61, 51,  1, 67, 55, 52,  1],\n",
            "        [48, 51,  1, 48, 59, 66, 62,  1]], device='privateuseone:0')\n",
            "CPU times: total: 15.6 ms\n",
            "Wall time: 193 ms\n"
          ]
        }
      ],
      "source": [
        "%%time\n",
        "import torch\n",
        "import torch.nn as nn\n",
        "import numpy as np\n",
        "import time\n",
        "import torch_directml\n",
        "\n",
        "block_size = 8\n",
        "batch_size = 4\n",
        "\n",
        "n= int(0.8*len(data))\n",
        "\n",
        "train_data = data[:n]\n",
        "val_data = data[n:]\n",
        "def get_batch(split):\n",
        "    data = train_data if split =='train'else val_data\n",
        "    ix = torch.randint(len(data) - block_size, (batch_size,))\n",
        "    # print(ix)\n",
        "    x = torch.stack([data[i:i+block_size] for i in ix])\n",
        "    y = torch.stack([data[i+1:i+block_size+1] for i in ix])\n",
        "    x,y = x.to(device), y.to(device)\n",
        "    return x,y\n",
        "\n",
        "x,y = get_batch('train')\n",
        "print('inputs: ')\n",
        "print(x)\n",
        "print('targets: ')\n",
        "print(y)"
      ]
    },
    {
      "cell_type": "code",
      "execution_count": null,
      "metadata": {
        "id": "dCfGQWWSigwc",
        "outputId": "a63fb4d1-4617-4255-9615-ab9f97aaf1c2"
      },
      "outputs": [
        {
          "name": "stdout",
          "output_type": "stream",
          "text": [
            "\n",
            ":d(DeWTaJw&jgPOZI81d. )T:]O\n",
            "x&h0G﻿g;h8'FRcP\n",
            "l\"oW_]R[u:AgIeuGt XHi.uOqNIJrF-[9I﻿rC9\n",
            "X)﻿nPlQvuMBv_&Ft*pc]o.MlQRFZ\n",
            "KSlhJtYE&8qSpkR)1SOUqSYfr?\n",
            "ChgLqniCk!00-WEAc(sTTIWBbVtL:ZT:hV&[﻿PhKFBMdC;Fn&kPr&hYUVbIZBl9-'jicUmEf&VtW\"Lt?'ogHp9)8]Y9IZYf!\"8ZwlNn;Bil\"x(-w﻿PsITw?1&MV(IYtLz!MW\"ofIU1dLqocu_aJTqFLcnHHl\"FO)CR-KjbaaS&)ctgHOSxSeu')wSmJvPqESpR0YqicX]eu?\n",
            "﻿[CSa!]0)fkbZT(ybz-TWfgJ_\"YxGO)n_kREZS0X) !:8-;eNKt*CX'*u(c-&F\n",
            "dmYT;hdnD,tkPeAYQcL h])*U9(]_XIZO)C;G!:XevMnY,Lt.8S(sj*bViPiVBJgLadys*C﻿d8[g(U!yTwDlgP(ANGtF﻿\n",
            "CPU times: total: 297 ms\n",
            "Wall time: 373 ms\n"
          ]
        }
      ],
      "source": [
        "%%time\n",
        "import torch\n",
        "import torch.nn as nn\n",
        "import numpy as np\n",
        "import time\n",
        "import torch_directml\n",
        "\n",
        "class BigramLanguageModel(nn.Module):\n",
        "    def __init__(self, vocab_size):\n",
        "        super().__init__()\n",
        "        self.token_embedding_table = nn.Embedding(vocab_size, vocab_size)\n",
        "\n",
        "    def forward(self, index, targets= None):\n",
        "        logits = self.token_embedding_table(index)\n",
        "\n",
        "        if targets == None:\n",
        "            loss = None\n",
        "        else:\n",
        "            B, T, C  = logits.shape\n",
        "            logits = logits.view(B*T, C)\n",
        "            targets = targets.view(B*T)\n",
        "            loss = F.cross_entropy(logits, targets)\n",
        "        return logits, loss\n",
        "\n",
        "    def generate(self, index, max_new_tokens):\n",
        "        for _ in range(max_new_tokens):\n",
        "            #get predictions\n",
        "            logits, loss = self.forward(index)\n",
        "            # focus only on the last timestep\n",
        "            logits = logits[:,-1, :]\n",
        "            #apply softmax to get the probabilities\n",
        "            probs = F.softmax(logits, dim = -1)\n",
        "            # sample from the distribution\n",
        "            index_next = torch.multinomial(probs, num_samples = 1)\n",
        "            # append sampeled index to the running sequence\n",
        "            index = torch.cat((index, index_next), dim = 1)\n",
        "        return index\n",
        "\n",
        "model = BigramLanguageModel(vocab_size)\n",
        "m = model.to(device)\n",
        "\n",
        "context = torch.zeros((1, 1),dtype = torch.long, device = device)\n",
        "generated_chars = decode(m.generate(context, max_new_tokens = 500)[0].tolist())\n",
        "print(generated_chars)class BigramLanguageModel(nn.Module):\n",
        "    def __init__(self, vocab_size):\n",
        "        super().__init__()\n",
        "        self.token_embedding_table = nn.Embedding(vocab_size, vocab_size)\n",
        "\n",
        "    def forward(self, index, targets= None):\n",
        "        logits = self.token_embedding_table(index)\n",
        "\n",
        "        if targets == None:\n",
        "            loss = None\n",
        "        else:\n",
        "            B, T, C  = logits.shape\n",
        "            logits = logits.view(B*T, C)\n",
        "            targets = targets.view(B*T)\n",
        "            loss = F.cross_entropy(logits, targets)\n",
        "        return logits, loss\n",
        "\n",
        "    def generate(self, index, max_new_tokens):\n",
        "        for _ in range(max_new_tokens):\n",
        "            #get predictions\n",
        "            logits, loss = self.forward(index)\n",
        "            # focus only on the last timestep\n",
        "            logits = logits[:,-1, :]\n",
        "            #apply softmax to get the probabilities\n",
        "            probs = F.softmax(logits, dim = -1)\n",
        "            # sample from the distribution\n",
        "            index_next = torch.multinomial(probs, num_samples = 1)\n",
        "            # append sampeled index to the running sequence\n",
        "            index = torch.cat((index, index_next), dim = 1)\n",
        "        return index\n",
        "\n",
        "model = BigramLanguageModel(vocab_size)\n",
        "m = model.to(device)\n",
        "\n",
        "context = torch.zeros((1, 1),dtype = torch.long, device = device)\n",
        "generated_chars = decode(m.generate(context, max_new_tokens = 500)[0].tolist())\n",
        "print(generated_chars)"
      ]
    },
    {
      "cell_type": "code",
      "execution_count": null,
      "metadata": {
        "scrolled": true,
        "id": "MFuh1Umhigwd",
        "outputId": "5d91c051-af1a-4ca6-c90e-b5567fa979dc"
      },
      "outputs": [
        {
          "name": "stdout",
          "output_type": "stream",
          "text": [
            "step: 0, train loss: 4.876, val loss: 4.883\n",
            "step: 1000, train loss: 3.177, val loss: 3.168\n",
            "step: 2000, train loss: 2.674, val loss: 2.684\n",
            "step: 3000, train loss: 2.515, val loss: 2.534\n",
            "step: 4000, train loss: 2.463, val loss: 2.469\n",
            "step: 5000, train loss: 2.423, val loss: 2.430\n",
            "step: 6000, train loss: 2.398, val loss: 2.423\n",
            "step: 7000, train loss: 2.391, val loss: 2.394\n",
            "step: 8000, train loss: 2.389, val loss: 2.395\n",
            "step: 9000, train loss: 2.381, val loss: 2.397\n",
            "2.4559195041656494\n",
            "CPU times: total: 49.4 s\n",
            "Wall time: 1min 5s\n"
          ]
        }
      ],
      "source": [
        "%%time\n",
        "import torch\n",
        "import torch.nn as nn\n",
        "import numpy as np\n",
        "import time\n",
        "import torch_directml\n",
        "\n",
        "@torch.no_grad()\n",
        "\n",
        "def estimate_loss():\n",
        "    out = {}\n",
        "    model.eval()\n",
        "    for split in ['train', 'val']:\n",
        "        losses = torch.zeros(eval_iters)\n",
        "        for k in range(eval_iters):\n",
        "            X, Y = get_batch(split)\n",
        "            logits, loss = model( X, Y)\n",
        "            losses[k]= loss.item()\n",
        "        out[split] = losses.mean()\n",
        "    model.train()\n",
        "    return out\n",
        "\n",
        "# create pytorch optimizer\n",
        "optimizer = torch.optim.AdamW(model.parameters(), lr=learning_rate)\n",
        "\n",
        "for iter in range(max_iters):\n",
        "    if iter % eval_iters == 0:\n",
        "        losses = estimate_loss()\n",
        "        print(f\"step: {iter}, train loss: {losses['train']:.3f}, val loss: {losses['val']:.3f}\")\n",
        "    # sample batch of data\n",
        "    xb, yb = get_batch('train')\n",
        "\n",
        "    #evaluate the loss\n",
        "    logits, loss = model.forward(xb, yb)\n",
        "    optimizer.zero_grad(set_to_none = True)\n",
        "    loss.backward()\n",
        "    optimizer.step()\n",
        "\n",
        "print(loss.item())\n",
        "\n"
      ]
    },
    {
      "cell_type": "code",
      "execution_count": null,
      "metadata": {
        "id": "oDe0nbA6igwd",
        "outputId": "8f7f4f57-7ba5-4bb8-954e-7222e1e1bce2"
      },
      "outputs": [
        {
          "name": "stdout",
          "output_type": "stream",
          "text": [
            "\n",
            "E.LLa, n1pZk18A,rZ9GTDR0-Z(T]viae?8*&zHidAHgnUvjQVyfGldAIuX;bbXzys\"k)&VgN[i-urcV]FuX ZeW8HLP8GZ!\n",
            "SU&'cYJY;smV8Qx]J.Zmt-u\n",
            "i-dMUkog]r\"n1[nvi\"1H[f cU\n",
            "h:)n0D)_yV﻿BFsO[ND(jhp:b(\"﻿8YO\"]s\n",
            "8jgZ9\"CPte[pN?YC'x01vFsgpQU,pgbW1[ TsAIP8 ﻿;Nn:.T\n",
            "xW9\"1mJsIUxdxE.Zls9SudL*(?f,uo﻿Wd\n",
            ";\n",
            "z8KK_Zh\"lNC:x;xisWmk:Sj(DTDLIxWNWI_m(]k(QOE-cJ\"v﻿8iF﻿axPls;oOc\"LT?VGaVgA\n",
            "gZ:\"bnEGfJs*﻿aaV  ﻿AXwCoGHP8iC&.yy-BbeOFHpBY,G?fk(1ycK﻿fXvvaPJ!\n",
            "LmSUizT!:K0xX0SoRKjgf](8QfiUtcBnez*﻿1?x)?bwrrzgQfS?bk;Eb-kdASjB-ypmtc*w01U*)y0INjBcR*'qA\n",
            "i-XA﻿ao\n"
          ]
        }
      ],
      "source": [
        "context = torch.zeros((1, 1),dtype = torch.long, device = device)\n",
        "generated_chars = decode(m.generate(context, max_new_tokens = 500)[0].tolist())\n",
        "print(generated_chars)"
      ]
    },
    {
      "cell_type": "code",
      "execution_count": 2,
      "metadata": {
        "colab": {
          "base_uri": "https://localhost:8080/"
        },
        "id": "sCM1iWonigwd",
        "outputId": "e4f432a9-3214-4a29-f26a-3d5a94625009"
      },
      "outputs": [
        {
          "output_type": "stream",
          "name": "stdout",
          "text": [
            "Using device: cuda\n",
            "CPU times: user 1.52 s, sys: 280 ms, total: 1.8 s\n",
            "Wall time: 3.67 s\n"
          ]
        }
      ],
      "source": [
        "%%time\n",
        "import torch\n",
        "import torch.nn as nn\n",
        "from torch.nn import functional as F\n",
        "import numpy as np\n",
        "import time\n",
        "# import torch_directml\n",
        "\n",
        "device = 'cuda' if torch.cuda.is_available else 'cpu'\n",
        "# device = torch_directml.device()\n",
        "device_name = \"DirectML GPU\" if \"privateuseone\" in str(device) else str(device)\n",
        "print(f\"Using device: {device_name}\")\n",
        "\n",
        "block_size = 64\n",
        "batch_size = 128\n",
        "max_iters = 3000\n",
        "learning_rate = 3e-3\n",
        "eval_iters = 100\n",
        "eval_interval = 500\n",
        "n_embd = 384\n",
        "n_layer = 4\n",
        "n_head = 4\n",
        "dropout = 0.2\n"
      ]
    },
    {
      "cell_type": "code",
      "execution_count": 4,
      "metadata": {
        "colab": {
          "base_uri": "https://localhost:8080/"
        },
        "id": "L3m712ghigwe",
        "outputId": "1aec7008-56e3-44cc-8456-44e1b26d876d"
      },
      "outputs": [
        {
          "output_type": "stream",
          "name": "stdout",
          "text": [
            "75\n",
            "['\\n', ' ', '!', '\"', '&', \"'\", '(', ')', '*', ',', '-', '.', '0', '1', '8', '9', ':', ';', '?', 'A', 'B', 'C', 'D', 'E', 'F', 'G', 'H', 'I', 'J', 'K', 'L', 'M', 'N', 'O', 'P', 'Q', 'R', 'S', 'T', 'U', 'V', 'W', 'X', 'Y', 'Z', '[', ']', '_', 'a', 'b', 'c', 'd', 'e', 'f', 'g', 'h', 'i', 'j', 'k', 'l', 'm', 'n', 'o', 'p', 'q', 'r', 's', 't', 'u', 'v', 'w', 'x', 'y', 'z', '\\ufeff']\n"
          ]
        }
      ],
      "source": [
        "chars = \"\"\n",
        "with open ('/content/sample_data/wizard_of_oz.txt', 'r', encoding='UTF-8') as f:\n",
        "    text = f.read()\n",
        "chars = sorted(set(text))\n",
        "vocab_size = len(chars)\n",
        "print(vocab_size)\n",
        "print(chars)"
      ]
    },
    {
      "cell_type": "code",
      "execution_count": 5,
      "metadata": {
        "colab": {
          "base_uri": "https://localhost:8080/"
        },
        "id": "Mxd-LLsNigwe",
        "outputId": "211934f5-8ea9-482e-d89d-7548e7e02d0b"
      },
      "outputs": [
        {
          "output_type": "stream",
          "name": "stdout",
          "text": [
            "tensor([74,  0,  1,  1,  1,  1,  1,  1,  1,  1,  1,  1,  1,  1,  1,  1,  1,  1,\n",
            "         1,  1,  1,  1,  1,  1,  1,  1,  1,  1,  1,  1,  1, 38, 55, 52,  1, 41,\n",
            "        33, 32, 22, 23, 36, 24, 39, 30,  0,  1,  1,  1,  1,  1,  1,  1,  1,  1,\n",
            "         1,  1,  1,  1,  1,  1,  1,  1,  1,  1,  1,  1,  1,  1,  1,  1,  1,  1,\n",
            "         1,  1,  1,  1,  1,  1, 41, 27, 44, 19, 36, 22,  0,  1,  1,  1,  1,  1,\n",
            "         1,  1,  1,  1,  1,  1,  1,  1,  1,  1,  1,  1,  1,  1,  1,  1,  1,  1,\n",
            "         1,  1,  1,  1,  1,  1,  1,  1,  1,  1,  1,  1, 33, 24,  0,  1,  1,  1,\n",
            "         1,  1,  1,  1,  1,  1,  1,  1,  1,  1,  1,  1,  1,  1,  1,  1,  1,  1,\n",
            "         1,  1,  1,  1,  1,  1,  1,  1,  1,  1,  1,  1,  1,  1, 33, 44,  0,  0,\n",
            "         1,  1,  1,  1,  1,  1,  1,  1,  1,  1,  1,  1,  1,  1,  1,  1,  1,  1,\n",
            "         1,  1,  1,  1,  1,  1,  1,  1,  1,  1, 20, 43,  1, 30, 11,  1, 24, 65,\n",
            "        48, 61, 58,  1, 20, 48, 68, 60,  0,  0,  1,  1,  1,  1,  1,  1,  1,  1,\n",
            "         1,  1,  1,  1,  1,  1,  1,  1,  1,  1,  1,  1,  1,  1,  1,  1,  1,  1,\n",
            "         1,  1,  1, 41, 11,  1, 41, 11,  1, 22, 52, 61, 66, 59, 62, 70, 11,  0,\n",
            "         0, 45, 27, 59, 59, 68, 66, 67, 65, 48, 67, 56, 62, 61, 46,  0,  0,  1,\n",
            "         1,  1,  1,  1,  1,  1,  1,  1,  1,  1,  1,  1,  1,  1,  1,  1,  1,  1,\n",
            "         1,  1,  1,  1,  1,  1,  1,  1,  1, 25, 52, 62, 11,  1, 31, 11,  1, 26,\n",
            "        56, 59, 59,  1, 21, 62, 11,  0,  1,  1,  1,  1,  1,  1,  1,  1,  1,  1,\n",
            "         1,  1,  1,  1,  1,  1,  1,  1,  1,  1,  1,  1,  1,  1,  1,  1,  1,  1,\n",
            "         1,  1,  1, 32, 52, 70,  1, 43, 62, 65, 58, 11,  0,  0,  0,  0,  0,  1,\n",
            "         1,  1,  1,  1,  1,  1,  1,  1,  1,  1,  1,  1,  1,  1,  1,  1,  1,  1,\n",
            "         1,  1,  1,  1,  1,  1,  1,  1,  1,  1, 27, 32, 38, 36, 33, 22, 39, 21,\n",
            "        38, 27, 33, 32, 11,  0,  0,  0, 24, 62, 59, 58,  1, 59, 62, 65, 52,  9,\n",
            "         1, 59, 52, 54, 52, 61, 51, 66,  9,  1, 60, 72, 67, 55, 66,  1, 48, 61,\n",
            "        51,  1, 53, 48, 56, 65, 72,  1, 67, 48, 59, 52, 66,  1, 55, 48, 69, 52,\n",
            "         1, 53, 62, 59, 59, 62, 70, 52, 51,  1, 50, 55, 56, 59, 51, 55, 62, 62,\n",
            "        51,  0, 67, 55, 65, 62, 68, 54, 55,  1, 67, 55, 52,  1, 48, 54, 52, 66,\n",
            "         9,  1, 53, 62, 65,  1, 52, 69, 52, 65, 72,  1, 55, 52])\n"
          ]
        }
      ],
      "source": [
        "string_to_int = {ch:i for i,ch in enumerate(chars)}\n",
        "int_to_string = {i:ch for i,ch in enumerate(chars)}\n",
        "encode = lambda s:[string_to_int[c] for c in s]\n",
        "decode = lambda l:''.join([int_to_string[i] for i in l])\n",
        "\n",
        "data = torch.tensor(encode(text), dtype=torch.long)\n",
        "print(data[:500])"
      ]
    },
    {
      "cell_type": "code",
      "execution_count": 6,
      "metadata": {
        "id": "jvyBV_XLigwf"
      },
      "outputs": [],
      "source": [
        "n= int(0.8*len(data))\n",
        "train_data = data[:n]\n",
        "val_data = data[n:]\n",
        "\n",
        "n= int(0.8*len(data))\n",
        "\n",
        "train_data = data[:n]\n",
        "val_data = data[n:]\n",
        "\n",
        "def get_batch(split):\n",
        "    data = train_data if split =='train'else val_data\n",
        "    ix = torch.randint(len(data) - block_size, (batch_size,))\n",
        "    # print(ix)\n",
        "    x = torch.stack([data[i:i+block_size] for i in ix])\n",
        "    y = torch.stack([data[i+1:i+block_size+1] for i in ix])\n",
        "    x,y = x.to(device), y.to(device)\n",
        "    return x,y\n"
      ]
    },
    {
      "cell_type": "code",
      "execution_count": 7,
      "metadata": {
        "id": "Bh2fkA60igwf"
      },
      "outputs": [],
      "source": [
        "@torch.no_grad()\n",
        "\n",
        "def estimate_loss():\n",
        "    out = {}\n",
        "    model.eval()\n",
        "    for split in ['train', 'val']:\n",
        "        losses = torch.zeros(eval_iters)\n",
        "        for k in range(eval_iters):\n",
        "            X, Y = get_batch(split)\n",
        "            logits, loss = model( X, Y)\n",
        "            losses[k]= loss.item()\n",
        "        out[split] = losses.mean()\n",
        "    model.train()\n",
        "    return out"
      ]
    },
    {
      "cell_type": "code",
      "execution_count": 8,
      "metadata": {
        "scrolled": true,
        "id": "8Aykr9gZigwg"
      },
      "outputs": [],
      "source": [
        "class Head(nn.Module):\n",
        "    \"\"\" One head of self attention \"\"\"\n",
        "\n",
        "    def __init__(self, head_size):\n",
        "        super().__init__()\n",
        "        self.key =  nn.Linear(n_embd, head_size, bias = False)\n",
        "        self.query = nn.Linear(n_embd, head_size, bias = False)\n",
        "        self.value = nn.Linear(n_embd, head_size, bias = False)\n",
        "        self.register_buffer('tril', torch.tril(torch.ones(block_size, block_size)))\n",
        "\n",
        "        self.dropout = nn.Dropout(dropout)\n",
        "\n",
        "    def forward(self, x):\n",
        "        # input of size ( batch, time-step, channels)\n",
        "        # output of size ( batch, time-step, head size)\n",
        "        B,T,C = x.shape\n",
        "        k = self.key(x)\n",
        "        q = self.query(x)\n",
        "        # compute attention scores(\"affinities\")\n",
        "        wei = q @ k.transpose(-2, -1)* k.shape[-1]**-0.5     # B,T,hs) @ B,hs,T >> (B,T,T) we need to scale the values to make sure all voices are heard\n",
        "        wei = wei.masked_fill(self.tril[:T,:T]==0, float('-inf'))   # (B,T,T)\n",
        "        wei = F.softmax(wei, dim=-1)   # (B,T,T)\n",
        "        wei = self.dropout(wei)\n",
        "        # perform the weighted aggregation of the values\n",
        "        v = self.value(x)    # (B,T,hs)\n",
        "        out = wei @ v  # (B,T,T) @ (B,T, hs) >> B, T, hs)\n",
        "        return out\n",
        "\n",
        "class MultiHeadAttention(nn.Module):\n",
        "    \"\"\" Multiple heads of self attention in parallel \"\"\"\n",
        "\n",
        "    def __init__(self, num_heads, head_size):\n",
        "        super().__init__()\n",
        "        self.heads = nn.ModuleList([Head(head_size) for _ in range(num_heads)])\n",
        "        self.proj = nn.Linear(head_size*num_heads, n_embd)\n",
        "        self.dropout = nn.Dropout(dropout)\n",
        "\n",
        "    def forward(self, x):\n",
        "        out = torch.cat([h(x) for h in self.heads], dim=-1)\n",
        "        out = self.dropout(self.proj(out))\n",
        "        return out\n",
        "\n",
        "class FeedForward(nn.Module):\n",
        "    \"\"\" simple Linear Layer followed by nonlinearity \"\"\"\n",
        "\n",
        "    def __init__(self, n_embd):\n",
        "        super().__init__()\n",
        "        self.net = nn.Sequential(\n",
        "            nn.Linear(n_embd, 4 * n_embd),\n",
        "            nn.ReLU(),\n",
        "            nn.Linear(4 * n_embd, n_embd),\n",
        "            nn.Dropout(dropout),\n",
        "        )\n",
        "\n",
        "    def forward(self, x):\n",
        "        return self.net(x)\n",
        "\n",
        "class Block(nn.Module):\n",
        "    \"\"\" Tranformer Block: communication followed by Computation \"\"\"\n",
        "\n",
        "    def __init__(self,n_embd, n_head):\n",
        "        # n_embd : embedding dimension, n_head: is the number of heads we'd like\n",
        "        super().__init__()\n",
        "        head_size= n_embd // n_head\n",
        "        self.sa = MultiHeadAttention(n_head, head_size)\n",
        "        self.ffwd = FeedForward(n_embd)\n",
        "        self.ln1 = nn.LayerNorm(n_embd)\n",
        "        self.ln2 = nn.LayerNorm(n_embd)\n",
        "\n",
        "    def forward(self, x):\n",
        "        y = self.sa(x)\n",
        "        x = self.ln1(x+y)\n",
        "        y = self.ffwd(x)\n",
        "        x = self.ln2(x+y)\n",
        "        return x\n",
        "\n",
        "class GPTLanguageModel(nn.Module):\n",
        "    def __init__(self, vocab_size):\n",
        "        super().__init__()\n",
        "        self.token_embedding_table = nn.Embedding(vocab_size, n_embd)\n",
        "        self.position_embedding_table = nn.Embedding(block_size, n_embd)\n",
        "        self.blocks = nn.Sequential(*[Block(n_embd,n_head=n_head) for _ in range(n_layer)])\n",
        "        self.ln_f = nn.LayerNorm(n_embd) # final layer norm\n",
        "        self.lm_head = nn.Linear(n_embd, vocab_size)\n",
        "\n",
        "        self.apply(self._init_weights)\n",
        "\n",
        "    def _init_weights(self, module):\n",
        "        if isinstance(module, nn.Linear):\n",
        "            torch.nn.init.normal_(module.weight, mean = 0.0, std = 0.02)\n",
        "            if module.bias is not None:\n",
        "                torch.nn.init.zeros_(module.bias)\n",
        "        elif isinstance(module, nn.Embedding):\n",
        "            torch.nn.init.normal_(module.weight, mean = 0.0, std = 0.02)\n",
        "\n",
        "    def forward(self, index, targets= None):\n",
        "        B, T = index.shape\n",
        "        # B, T, C  = logits.shape\n",
        "\n",
        "        # index and targets are both (B,T) tensor of integers\n",
        "        tok_emb = self.token_embedding_table(index) # (B, T, C)\n",
        "        pos_emb = self.position_embedding_table(torch.arange(T, device= device)) # (T, C)\n",
        "        x = tok_emb + pos_emb # (B, T, C)\n",
        "        x = self.blocks(x) # (B, T, C)\n",
        "        x = self.ln_f(x) # (B,T,C)\n",
        "        logits = self.lm_head(x) # (B,T,vocab_size)\n",
        "\n",
        "        if targets == None:\n",
        "            loss = None\n",
        "        else:\n",
        "            B,T,C = logits.shape\n",
        "            logits = logits.view (B*T, C)\n",
        "            targets = targets.view(B*T)\n",
        "            loss = F.cross_entropy(logits, targets)\n",
        "        return logits, loss\n",
        "\n",
        "    def generate(self, index, max_new_tokens):\n",
        "        for _ in range(max_new_tokens):\n",
        "            #get predictions\n",
        "            logits, loss = self.forward(index)\n",
        "            # focus only on the last timestep\n",
        "            logits = logits[:,-1, :]\n",
        "            #apply softmax to get the probabilities\n",
        "            probs = F.softmax(logits, dim = -1)\n",
        "            # sample from the distribution\n",
        "            index_next = torch.multinomial(probs, num_samples = 1)\n",
        "            # append sampeled index to the running sequence\n",
        "            index = torch.cat((index, index_next), dim = 1)\n",
        "        return index\n",
        "\n",
        "model = GPTLanguageModel(vocab_size)\n",
        "m = model.to(device)\n",
        "\n",
        "# context = torch.zeros((1, 1),dtype = torch.long, device = device)\n",
        "# generated_chars = decode(m.generate(context, max_new_tokens = 500)[0].tolist())\n",
        "# print(generated_chars)"
      ]
    },
    {
      "cell_type": "code",
      "execution_count": 9,
      "metadata": {
        "colab": {
          "base_uri": "https://localhost:8080/"
        },
        "id": "h0hHETKxigwg",
        "outputId": "8978a0b3-cdbc-456b-a7b8-41ef23ad7920"
      },
      "outputs": [
        {
          "output_type": "stream",
          "name": "stdout",
          "text": [
            "step: 0, train loss: 4.408, val loss: 4.410\n",
            "step: 100, train loss: 3.102, val loss: 3.102\n",
            "step: 200, train loss: 3.098, val loss: 3.098\n",
            "step: 300, train loss: 3.099, val loss: 3.096\n",
            "step: 400, train loss: 3.096, val loss: 3.103\n",
            "step: 500, train loss: 3.099, val loss: 3.100\n",
            "step: 600, train loss: 3.098, val loss: 3.098\n",
            "step: 700, train loss: 3.102, val loss: 3.099\n",
            "step: 800, train loss: 3.098, val loss: 3.098\n",
            "step: 900, train loss: 3.101, val loss: 3.093\n",
            "step: 1000, train loss: 3.092, val loss: 3.094\n",
            "step: 1100, train loss: 3.096, val loss: 3.092\n",
            "step: 1200, train loss: 3.097, val loss: 3.095\n",
            "step: 1300, train loss: 3.093, val loss: 3.096\n",
            "step: 1400, train loss: 3.099, val loss: 3.101\n",
            "step: 1500, train loss: 3.092, val loss: 3.093\n",
            "step: 1600, train loss: 3.092, val loss: 3.099\n",
            "step: 1700, train loss: 3.094, val loss: 3.097\n",
            "step: 1800, train loss: 3.092, val loss: 3.094\n",
            "step: 1900, train loss: 3.094, val loss: 3.092\n",
            "step: 2000, train loss: 3.096, val loss: 3.097\n",
            "step: 2100, train loss: 3.094, val loss: 3.095\n",
            "step: 2200, train loss: 3.092, val loss: 3.094\n",
            "step: 2300, train loss: 3.097, val loss: 3.095\n",
            "step: 2400, train loss: 3.096, val loss: 3.096\n",
            "step: 2500, train loss: 3.096, val loss: 3.095\n",
            "step: 2600, train loss: 3.096, val loss: 3.092\n",
            "step: 2700, train loss: 3.095, val loss: 3.095\n",
            "step: 2800, train loss: 3.092, val loss: 3.096\n",
            "step: 2900, train loss: 3.096, val loss: 3.094\n",
            "3.1063873767852783\n"
          ]
        }
      ],
      "source": [
        "# create pytorch optimizer\n",
        "optimizer = torch.optim.AdamW(model.parameters(), lr=learning_rate)\n",
        "\n",
        "for iter in range(max_iters):\n",
        "    if iter % eval_iters == 0:\n",
        "        losses = estimate_loss()\n",
        "        print(f\"step: {iter}, train loss: {losses['train']:.3f}, val loss: {losses['val']:.3f}\")\n",
        "    # sample batch of data\n",
        "    xb, yb = get_batch('train')\n",
        "\n",
        "    #evaluate the loss\n",
        "    logits, loss = model.forward(xb, yb)\n",
        "    optimizer.zero_grad(set_to_none = True)\n",
        "    loss.backward()\n",
        "    optimizer.step()\n",
        "\n",
        "print(loss.item())\n"
      ]
    },
    {
      "cell_type": "code",
      "execution_count": null,
      "metadata": {
        "id": "B-ZnpdErigwh"
      },
      "outputs": [],
      "source": []
    }
  ],
  "metadata": {
    "kernelspec": {
      "display_name": "cuda-gpt",
      "language": "python",
      "name": "cuda"
    },
    "language_info": {
      "codemirror_mode": {
        "name": "ipython",
        "version": 3
      },
      "file_extension": ".py",
      "mimetype": "text/x-python",
      "name": "python",
      "nbconvert_exporter": "python",
      "pygments_lexer": "ipython3",
      "version": "3.12.9"
    },
    "colab": {
      "provenance": [],
      "gpuType": "A100",
      "include_colab_link": true
    },
    "accelerator": "GPU"
  },
  "nbformat": 4,
  "nbformat_minor": 0
}